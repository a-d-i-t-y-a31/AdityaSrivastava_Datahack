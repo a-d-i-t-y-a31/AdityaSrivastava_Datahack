{
 "cells": [
  {
   "cell_type": "markdown",
   "id": "be5faaf3",
   "metadata": {},
   "source": [
    "# GFG Hackathon submission"
   ]
  },
  {
   "cell_type": "markdown",
   "id": "d3ab9cff",
   "metadata": {},
   "source": [
    "first importing all libraries"
   ]
  },
  {
   "cell_type": "code",
   "execution_count": 152,
   "id": "2a526ea3",
   "metadata": {},
   "outputs": [],
   "source": [
    "import pandas as pd\n",
    "import numpy as np\n",
    "import matplotlib.pyplot as plt\n",
    "import seaborn as sns\n",
    "from sklearn import svm, datasets\n",
    "from sklearn.preprocessing import LabelEncoder\n",
    "from sklearn.metrics import accuracy_score, confusion_matrix, roc_auc_score\n",
    "from sklearn.ensemble import RandomForestClassifier\n",
    "from sklearn.model_selection import train_test_split\n",
    "%matplotlib inline"
   ]
  },
  {
   "cell_type": "markdown",
   "id": "7b611e1a",
   "metadata": {},
   "source": [
    "loading all files into dataframes"
   ]
  },
  {
   "cell_type": "code",
   "execution_count": 153,
   "id": "7202ff5c",
   "metadata": {},
   "outputs": [],
   "source": [
    "df_submission = pd.read_csv(\"submission_format.csv\")\n",
    "df_test_set_features = pd.read_csv(\"test_set_features.csv\")"
   ]
  },
  {
   "cell_type": "code",
   "execution_count": 154,
   "id": "26efc1b1",
   "metadata": {},
   "outputs": [],
   "source": [
    "df_training_set_features = pd.read_csv(\"training_set_features.csv\")\n",
    "df_training_set_labels = pd.read_csv(\"training_set_labels.csv\")"
   ]
  },
  {
   "cell_type": "markdown",
   "id": "370e8087",
   "metadata": {},
   "source": [
    "getting an idea of the dataframes"
   ]
  },
  {
   "cell_type": "code",
   "execution_count": 155,
   "id": "57c3a1ba",
   "metadata": {},
   "outputs": [
    {
     "data": {
      "text/html": [
       "<div>\n",
       "<style scoped>\n",
       "    .dataframe tbody tr th:only-of-type {\n",
       "        vertical-align: middle;\n",
       "    }\n",
       "\n",
       "    .dataframe tbody tr th {\n",
       "        vertical-align: top;\n",
       "    }\n",
       "\n",
       "    .dataframe thead th {\n",
       "        text-align: right;\n",
       "    }\n",
       "</style>\n",
       "<table border=\"1\" class=\"dataframe\">\n",
       "  <thead>\n",
       "    <tr style=\"text-align: right;\">\n",
       "      <th></th>\n",
       "      <th>respondent_id</th>\n",
       "      <th>h1n1_vaccine</th>\n",
       "      <th>seasonal_vaccine</th>\n",
       "    </tr>\n",
       "  </thead>\n",
       "  <tbody>\n",
       "    <tr>\n",
       "      <th>0</th>\n",
       "      <td>26707</td>\n",
       "      <td>0.5</td>\n",
       "      <td>0.7</td>\n",
       "    </tr>\n",
       "    <tr>\n",
       "      <th>1</th>\n",
       "      <td>26708</td>\n",
       "      <td>0.5</td>\n",
       "      <td>0.7</td>\n",
       "    </tr>\n",
       "    <tr>\n",
       "      <th>2</th>\n",
       "      <td>26709</td>\n",
       "      <td>0.5</td>\n",
       "      <td>0.7</td>\n",
       "    </tr>\n",
       "    <tr>\n",
       "      <th>3</th>\n",
       "      <td>26710</td>\n",
       "      <td>0.5</td>\n",
       "      <td>0.7</td>\n",
       "    </tr>\n",
       "    <tr>\n",
       "      <th>4</th>\n",
       "      <td>26711</td>\n",
       "      <td>0.5</td>\n",
       "      <td>0.7</td>\n",
       "    </tr>\n",
       "  </tbody>\n",
       "</table>\n",
       "</div>"
      ],
      "text/plain": [
       "   respondent_id  h1n1_vaccine  seasonal_vaccine\n",
       "0          26707           0.5               0.7\n",
       "1          26708           0.5               0.7\n",
       "2          26709           0.5               0.7\n",
       "3          26710           0.5               0.7\n",
       "4          26711           0.5               0.7"
      ]
     },
     "execution_count": 155,
     "metadata": {},
     "output_type": "execute_result"
    }
   ],
   "source": [
    "df_submission.head()"
   ]
  },
  {
   "cell_type": "code",
   "execution_count": 156,
   "id": "c014bd13",
   "metadata": {},
   "outputs": [
    {
     "data": {
      "text/plain": [
       "(26707, 36)"
      ]
     },
     "execution_count": 156,
     "metadata": {},
     "output_type": "execute_result"
    }
   ],
   "source": [
    "df_training_set_features.shape"
   ]
  },
  {
   "cell_type": "code",
   "execution_count": 157,
   "id": "91386150",
   "metadata": {},
   "outputs": [
    {
     "data": {
      "text/html": [
       "<div>\n",
       "<style scoped>\n",
       "    .dataframe tbody tr th:only-of-type {\n",
       "        vertical-align: middle;\n",
       "    }\n",
       "\n",
       "    .dataframe tbody tr th {\n",
       "        vertical-align: top;\n",
       "    }\n",
       "\n",
       "    .dataframe thead th {\n",
       "        text-align: right;\n",
       "    }\n",
       "</style>\n",
       "<table border=\"1\" class=\"dataframe\">\n",
       "  <thead>\n",
       "    <tr style=\"text-align: right;\">\n",
       "      <th></th>\n",
       "      <th>respondent_id</th>\n",
       "      <th>xyz_vaccine</th>\n",
       "      <th>seasonal_vaccine</th>\n",
       "    </tr>\n",
       "  </thead>\n",
       "  <tbody>\n",
       "    <tr>\n",
       "      <th>0</th>\n",
       "      <td>0</td>\n",
       "      <td>0</td>\n",
       "      <td>0</td>\n",
       "    </tr>\n",
       "    <tr>\n",
       "      <th>1</th>\n",
       "      <td>1</td>\n",
       "      <td>0</td>\n",
       "      <td>1</td>\n",
       "    </tr>\n",
       "    <tr>\n",
       "      <th>2</th>\n",
       "      <td>2</td>\n",
       "      <td>0</td>\n",
       "      <td>0</td>\n",
       "    </tr>\n",
       "    <tr>\n",
       "      <th>3</th>\n",
       "      <td>3</td>\n",
       "      <td>0</td>\n",
       "      <td>1</td>\n",
       "    </tr>\n",
       "    <tr>\n",
       "      <th>4</th>\n",
       "      <td>4</td>\n",
       "      <td>0</td>\n",
       "      <td>0</td>\n",
       "    </tr>\n",
       "  </tbody>\n",
       "</table>\n",
       "</div>"
      ],
      "text/plain": [
       "   respondent_id  xyz_vaccine  seasonal_vaccine\n",
       "0              0            0                 0\n",
       "1              1            0                 1\n",
       "2              2            0                 0\n",
       "3              3            0                 1\n",
       "4              4            0                 0"
      ]
     },
     "execution_count": 157,
     "metadata": {},
     "output_type": "execute_result"
    }
   ],
   "source": [
    "df_training_set_labels.head()"
   ]
  },
  {
   "cell_type": "markdown",
   "id": "2edfa053",
   "metadata": {},
   "source": [
    "concated the two dataframes of training features and labels"
   ]
  },
  {
   "cell_type": "code",
   "execution_count": 158,
   "id": "4839dd0b",
   "metadata": {},
   "outputs": [],
   "source": [
    "df_final = pd.concat([df_training_set_features,df_training_set_labels], axis = 1)"
   ]
  },
  {
   "cell_type": "code",
   "execution_count": 159,
   "id": "92a45527",
   "metadata": {},
   "outputs": [
    {
     "data": {
      "text/plain": [
       "(26707, 39)"
      ]
     },
     "execution_count": 159,
     "metadata": {},
     "output_type": "execute_result"
    }
   ],
   "source": [
    "df_final.shape"
   ]
  },
  {
   "cell_type": "markdown",
   "id": "e062d87e",
   "metadata": {},
   "source": [
    "I then identified all the entries which had more than 10 missing features and removed those entries"
   ]
  },
  {
   "cell_type": "code",
   "execution_count": 160,
   "id": "55af7f5a",
   "metadata": {},
   "outputs": [
    {
     "name": "stdout",
     "output_type": "stream",
     "text": [
      "25848 773\n"
     ]
    }
   ],
   "source": [
    "series1 =df_final.isnull().sum(axis = 1)\n",
    "print(series1[series1 < 10].size, series1[series1 > 10].size)"
   ]
  },
  {
   "cell_type": "code",
   "execution_count": 161,
   "id": "e9f8c1bd",
   "metadata": {},
   "outputs": [
    {
     "data": {
      "text/plain": [
       "(25934, 39)"
      ]
     },
     "execution_count": 161,
     "metadata": {},
     "output_type": "execute_result"
    }
   ],
   "source": [
    "df_final[series1 <= 10].shape"
   ]
  },
  {
   "cell_type": "markdown",
   "id": "55cb7c92",
   "metadata": {},
   "source": [
    "just making sure that these two add up to the same total as the original number of rows"
   ]
  },
  {
   "cell_type": "code",
   "execution_count": 162,
   "id": "aad77446",
   "metadata": {},
   "outputs": [
    {
     "data": {
      "text/plain": [
       "26707"
      ]
     },
     "execution_count": 162,
     "metadata": {},
     "output_type": "execute_result"
    }
   ],
   "source": [
    "#plt.plot(series1, 'g--')\n",
    "25934 + 773"
   ]
  },
  {
   "cell_type": "code",
   "execution_count": 163,
   "id": "91b0275d",
   "metadata": {},
   "outputs": [],
   "source": [
    "df_final = df_final[series1 <= 10]"
   ]
  },
  {
   "cell_type": "code",
   "execution_count": 164,
   "id": "c682afe0",
   "metadata": {},
   "outputs": [
    {
     "data": {
      "text/plain": [
       "(25934, 39)"
      ]
     },
     "execution_count": 164,
     "metadata": {},
     "output_type": "execute_result"
    }
   ],
   "source": [
    "df_final.shape"
   ]
  },
  {
   "cell_type": "markdown",
   "id": "8aab9c1d",
   "metadata": {},
   "source": [
    "getting an idea of missing values"
   ]
  },
  {
   "cell_type": "code",
   "execution_count": 211,
   "id": "449b978f",
   "metadata": {},
   "outputs": [
    {
     "data": {
      "text/plain": [
       "respondent_id                  0\n",
       "xyz_concern                    0\n",
       "xyz_knowledge                  0\n",
       "behavioral_antiviral_meds      0\n",
       "behavioral_avoidance           0\n",
       "behavioral_face_mask           0\n",
       "behavioral_wash_hands          0\n",
       "behavioral_large_gatherings    0\n",
       "behavioral_outside_home        0\n",
       "behavioral_touch_face          0\n",
       "doctor_recc_xyz                0\n",
       "doctor_recc_seasonal           0\n",
       "chronic_med_condition          0\n",
       "child_under_6_months           0\n",
       "health_worker                  0\n",
       "opinion_xyz_vacc_effective     0\n",
       "opinion_xyz_risk               0\n",
       "opinion_xyz_sick_from_vacc     0\n",
       "opinion_seas_vacc_effective    0\n",
       "opinion_seas_risk              0\n",
       "opinion_seas_sick_from_vacc    0\n",
       "age_group                      0\n",
       "education                      0\n",
       "race                           0\n",
       "sex                            0\n",
       "income_poverty                 0\n",
       "marital_status                 0\n",
       "rent_or_own                    0\n",
       "employment_status              0\n",
       "hhs_geo_region                 0\n",
       "census_msa                     0\n",
       "household_adults               0\n",
       "household_children             0\n",
       "xyz_vaccine                    0\n",
       "seasonal_vaccine               0\n",
       "dtype: int64"
      ]
     },
     "execution_count": 211,
     "metadata": {},
     "output_type": "execute_result"
    }
   ],
   "source": [
    "df_final.isnull().sum()"
   ]
  },
  {
   "cell_type": "markdown",
   "id": "e6f4cae6",
   "metadata": {},
   "source": [
    "Since employment industry, employment occupation and health insurance have missing values for about half the values I decided to discard it"
   ]
  },
  {
   "cell_type": "code",
   "execution_count": 166,
   "id": "c1efd7ba",
   "metadata": {},
   "outputs": [],
   "source": [
    "df_final.drop(columns = ['employment_industry', 'employment_occupation', 'health_insurance'], inplace = True)"
   ]
  },
  {
   "cell_type": "markdown",
   "id": "d415492e",
   "metadata": {},
   "source": [
    "Also, when using concat, the id column was also joined resulting in duplicate columns, So I removed it also"
   ]
  },
  {
   "cell_type": "code",
   "execution_count": 167,
   "id": "15a470a3",
   "metadata": {},
   "outputs": [],
   "source": [
    "df_final = df_final.loc[:, ~df_final.columns.duplicated()].copy()"
   ]
  },
  {
   "cell_type": "markdown",
   "id": "1afa3957",
   "metadata": {},
   "source": [
    "After the edits, the final size of the dataframe is"
   ]
  },
  {
   "cell_type": "code",
   "execution_count": 168,
   "id": "5fb15185",
   "metadata": {},
   "outputs": [
    {
     "data": {
      "text/plain": [
       "(25934, 35)"
      ]
     },
     "execution_count": 168,
     "metadata": {},
     "output_type": "execute_result"
    }
   ],
   "source": [
    "df_final.shape"
   ]
  },
  {
   "cell_type": "code",
   "execution_count": 169,
   "id": "c0938895",
   "metadata": {},
   "outputs": [
    {
     "data": {
      "text/plain": [
       "[<matplotlib.lines.Line2D at 0x1e16932ad50>]"
      ]
     },
     "execution_count": 169,
     "metadata": {},
     "output_type": "execute_result"
    },
    {
     "data": {
      "image/png": "[encoded data removed]",
      "text/plain": [
       "<Figure size 640x480 with 1 Axes>"
      ]
     },
     "metadata": {},
     "output_type": "display_data"
    }
   ],
   "source": [
    "plt.xticks(rotation = 90)\n",
    "plt.plot(df_final.isnull().sum()[df_final.isnull().sum() > 0])"
   ]
  },
  {
   "cell_type": "code",
   "execution_count": 170,
   "id": "06bdc9d7",
   "metadata": {},
   "outputs": [
    {
     "data": {
      "text/plain": [
       "array(['Below Poverty', '<= $75,000, Above Poverty', '> $75,000', nan],\n",
       "      dtype=object)"
      ]
     },
     "execution_count": 170,
     "metadata": {},
     "output_type": "execute_result"
    }
   ],
   "source": [
    "df_final.income_poverty.unique()"
   ]
  },
  {
   "cell_type": "code",
   "execution_count": 171,
   "id": "06d0a94c",
   "metadata": {},
   "outputs": [],
   "source": [
    "df_final.income_poverty.fillna('<= $75,000, Above Poverty', inplace = True)"
   ]
  },
  {
   "cell_type": "code",
   "execution_count": 172,
   "id": "1631f63d",
   "metadata": {},
   "outputs": [],
   "source": [
    "df_final.doctor_recc_seasonal.fillna(0, inplace = True)"
   ]
  },
  {
   "cell_type": "code",
   "execution_count": 173,
   "id": "a1b1ba54",
   "metadata": {},
   "outputs": [
    {
     "data": {
      "text/plain": [
       "count    23969.000000\n",
       "mean         0.221161\n",
       "std          0.415037\n",
       "min          0.000000\n",
       "25%          0.000000\n",
       "50%          0.000000\n",
       "75%          0.000000\n",
       "max          1.000000\n",
       "Name: doctor_recc_xyz, dtype: float64"
      ]
     },
     "execution_count": 173,
     "metadata": {},
     "output_type": "execute_result"
    }
   ],
   "source": [
    "df_final.doctor_recc_xyz.describe()"
   ]
  },
  {
   "cell_type": "code",
   "execution_count": 174,
   "id": "1e633fb1",
   "metadata": {},
   "outputs": [],
   "source": [
    "df_final.doctor_recc_xyz.fillna(0, inplace = True)"
   ]
  },
  {
   "cell_type": "code",
   "execution_count": 175,
   "id": "be957586",
   "metadata": {},
   "outputs": [
    {
     "data": {
      "text/plain": [
       "array(['Not in Labor Force', 'Employed', 'Unemployed', nan], dtype=object)"
      ]
     },
     "execution_count": 175,
     "metadata": {},
     "output_type": "execute_result"
    }
   ],
   "source": [
    "df_final.employment_status.unique()"
   ]
  },
  {
   "cell_type": "code",
   "execution_count": 176,
   "id": "807a5e70",
   "metadata": {},
   "outputs": [],
   "source": [
    "df_final.employment_status.fillna('Employed', inplace = True)"
   ]
  },
  {
   "cell_type": "code",
   "execution_count": 177,
   "id": "9ae105f3",
   "metadata": {},
   "outputs": [
    {
     "data": {
      "text/plain": [
       "count     24663\n",
       "unique        2\n",
       "top         Own\n",
       "freq      18734\n",
       "Name: rent_or_own, dtype: object"
      ]
     },
     "execution_count": 177,
     "metadata": {},
     "output_type": "execute_result"
    }
   ],
   "source": [
    "df_final.rent_or_own.describe()"
   ]
  },
  {
   "cell_type": "code",
   "execution_count": 178,
   "id": "081a7404",
   "metadata": {},
   "outputs": [],
   "source": [
    "df_final.rent_or_own.fillna('Own', inplace = True)"
   ]
  },
  {
   "cell_type": "code",
   "execution_count": 179,
   "id": "0a2a9846",
   "metadata": {},
   "outputs": [
    {
     "data": {
      "text/plain": [
       "array(['Not Married', 'Married', nan], dtype=object)"
      ]
     },
     "execution_count": 179,
     "metadata": {},
     "output_type": "execute_result"
    }
   ],
   "source": [
    "df_final.marital_status.unique()"
   ]
  },
  {
   "cell_type": "code",
   "execution_count": 180,
   "id": "a303f134",
   "metadata": {},
   "outputs": [],
   "source": [
    "df_final.marital_status.fillna('Married', inplace = True)"
   ]
  },
  {
   "cell_type": "code",
   "execution_count": 181,
   "id": "c44f47d8",
   "metadata": {},
   "outputs": [
    {
     "data": {
      "text/plain": [
       "count                25295\n",
       "unique                   4\n",
       "top       College Graduate\n",
       "freq                 10096\n",
       "Name: education, dtype: object"
      ]
     },
     "execution_count": 181,
     "metadata": {},
     "output_type": "execute_result"
    }
   ],
   "source": [
    "df_final.education.describe()"
   ]
  },
  {
   "cell_type": "code",
   "execution_count": 182,
   "id": "a6c37de8",
   "metadata": {},
   "outputs": [],
   "source": [
    "df_final.education.fillna('College Graduate', inplace = True)"
   ]
  },
  {
   "cell_type": "code",
   "execution_count": 183,
   "id": "e8c504cd",
   "metadata": {},
   "outputs": [
    {
     "data": {
      "text/plain": [
       "array([ 0.,  1., nan])"
      ]
     },
     "execution_count": 183,
     "metadata": {},
     "output_type": "execute_result"
    }
   ],
   "source": [
    "df_final.chronic_med_condition.unique()"
   ]
  },
  {
   "cell_type": "code",
   "execution_count": 184,
   "id": "3dfd4883",
   "metadata": {},
   "outputs": [],
   "source": [
    "df_final.chronic_med_condition.fillna(0, inplace = True)"
   ]
  },
  {
   "cell_type": "code",
   "execution_count": 185,
   "id": "7d4cfc35",
   "metadata": {},
   "outputs": [
    {
     "data": {
      "text/plain": [
       "count    25739.000000\n",
       "mean         0.728156\n",
       "std          0.444919\n",
       "min          0.000000\n",
       "25%          0.000000\n",
       "50%          1.000000\n",
       "75%          1.000000\n",
       "max          1.000000\n",
       "Name: behavioral_avoidance, dtype: float64"
      ]
     },
     "execution_count": 185,
     "metadata": {},
     "output_type": "execute_result"
    }
   ],
   "source": [
    "df_final.behavioral_avoidance.describe()"
   ]
  },
  {
   "cell_type": "code",
   "execution_count": 186,
   "id": "eda58243",
   "metadata": {},
   "outputs": [],
   "source": [
    "df_final.behavioral_avoidance.fillna(1, inplace = True)"
   ]
  },
  {
   "cell_type": "code",
   "execution_count": 187,
   "id": "49f93d37",
   "metadata": {},
   "outputs": [
    {
     "data": {
      "text/plain": [
       "count    25815.000000\n",
       "mean         0.678210\n",
       "std          0.467172\n",
       "min          0.000000\n",
       "25%          0.000000\n",
       "50%          1.000000\n",
       "75%          1.000000\n",
       "max          1.000000\n",
       "Name: behavioral_touch_face, dtype: float64"
      ]
     },
     "execution_count": 187,
     "metadata": {},
     "output_type": "execute_result"
    }
   ],
   "source": [
    "df_final.behavioral_touch_face.describe()"
   ]
  },
  {
   "cell_type": "code",
   "execution_count": 188,
   "id": "b0e2337f",
   "metadata": {},
   "outputs": [],
   "source": [
    "df_final.behavioral_touch_face.fillna(1, inplace = True)"
   ]
  },
  {
   "cell_type": "code",
   "execution_count": 189,
   "id": "60dd2c4c",
   "metadata": {},
   "outputs": [
    {
     "data": {
      "text/plain": [
       "count    25825.000000\n",
       "mean         1.272682\n",
       "std          0.612302\n",
       "min          0.000000\n",
       "25%          1.000000\n",
       "50%          1.000000\n",
       "75%          2.000000\n",
       "max          2.000000\n",
       "Name: xyz_knowledge, dtype: float64"
      ]
     },
     "execution_count": 189,
     "metadata": {},
     "output_type": "execute_result"
    }
   ],
   "source": [
    "df_final.xyz_knowledge.describe()"
   ]
  },
  {
   "cell_type": "code",
   "execution_count": 190,
   "id": "fdb8d57e",
   "metadata": {},
   "outputs": [],
   "source": [
    "df_final.xyz_knowledge.fillna(1, inplace = True)"
   ]
  },
  {
   "cell_type": "code",
   "execution_count": 191,
   "id": "626e36f1",
   "metadata": {},
   "outputs": [
    {
     "data": {
      "text/plain": [
       "count    25845.000000\n",
       "mean         3.856723\n",
       "std          1.004333\n",
       "min          1.000000\n",
       "25%          3.000000\n",
       "50%          4.000000\n",
       "75%          5.000000\n",
       "max          5.000000\n",
       "Name: opinion_xyz_vacc_effective, dtype: float64"
      ]
     },
     "execution_count": 191,
     "metadata": {},
     "output_type": "execute_result"
    }
   ],
   "source": [
    "df_final.opinion_xyz_vacc_effective.describe()"
   ]
  },
  {
   "cell_type": "code",
   "execution_count": 192,
   "id": "be939038",
   "metadata": {},
   "outputs": [],
   "source": [
    "df_final.opinion_xyz_vacc_effective.fillna(4, inplace = True)"
   ]
  },
  {
   "cell_type": "code",
   "execution_count": 193,
   "id": "4a7f7920",
   "metadata": {},
   "outputs": [
    {
     "data": {
      "text/plain": [
       "count    25854.000000\n",
       "mean         1.618937\n",
       "std          0.906271\n",
       "min          0.000000\n",
       "25%          1.000000\n",
       "50%          2.000000\n",
       "75%          2.000000\n",
       "max          3.000000\n",
       "Name: xyz_concern, dtype: float64"
      ]
     },
     "execution_count": 193,
     "metadata": {},
     "output_type": "execute_result"
    }
   ],
   "source": [
    "df_final.xyz_concern.describe()"
   ]
  },
  {
   "cell_type": "code",
   "execution_count": 194,
   "id": "f3139e62",
   "metadata": {},
   "outputs": [],
   "source": [
    "df_final.xyz_concern.fillna(2, inplace = True)"
   ]
  },
  {
   "cell_type": "code",
   "execution_count": 195,
   "id": "1f5d02a8",
   "metadata": {},
   "outputs": [
    {
     "data": {
      "text/plain": [
       "count    25854.000000\n",
       "mean         0.357701\n",
       "std          0.479333\n",
       "min          0.000000\n",
       "25%          0.000000\n",
       "50%          0.000000\n",
       "75%          1.000000\n",
       "max          1.000000\n",
       "Name: behavioral_large_gatherings, dtype: float64"
      ]
     },
     "execution_count": 195,
     "metadata": {},
     "output_type": "execute_result"
    }
   ],
   "source": [
    "df_final.behavioral_large_gatherings.describe()"
   ]
  },
  {
   "cell_type": "code",
   "execution_count": 196,
   "id": "b0026cef",
   "metadata": {},
   "outputs": [],
   "source": [
    "df_final.behavioral_large_gatherings.fillna(0, inplace = True)"
   ]
  },
  {
   "cell_type": "code",
   "execution_count": 197,
   "id": "a7dd54c7",
   "metadata": {},
   "outputs": [
    {
     "data": {
      "text/plain": [
       "count    25856.000000\n",
       "mean         0.335435\n",
       "std          0.472151\n",
       "min          0.000000\n",
       "25%          0.000000\n",
       "50%          0.000000\n",
       "75%          1.000000\n",
       "max          1.000000\n",
       "Name: behavioral_outside_home, dtype: float64"
      ]
     },
     "execution_count": 197,
     "metadata": {},
     "output_type": "execute_result"
    }
   ],
   "source": [
    "df_final.behavioral_outside_home.describe()"
   ]
  },
  {
   "cell_type": "code",
   "execution_count": 198,
   "id": "69f15e76",
   "metadata": {},
   "outputs": [],
   "source": [
    "df_final.behavioral_outside_home.fillna(0, inplace = True)"
   ]
  },
  {
   "cell_type": "code",
   "execution_count": 199,
   "id": "16170897",
   "metadata": {},
   "outputs": [],
   "source": [
    "df_final.behavioral_antiviral_meds.fillna(df_final.behavioral_antiviral_meds.median(), inplace = True)"
   ]
  },
  {
   "cell_type": "code",
   "execution_count": 200,
   "id": "049594f2",
   "metadata": {},
   "outputs": [],
   "source": [
    "df_final.child_under_6_months.fillna(df_final.child_under_6_months.median(), inplace = True)"
   ]
  },
  {
   "cell_type": "code",
   "execution_count": 201,
   "id": "da7cc590",
   "metadata": {},
   "outputs": [],
   "source": [
    "df_final.health_worker.fillna(df_final.health_worker.median(), inplace = True)"
   ]
  },
  {
   "cell_type": "code",
   "execution_count": 202,
   "id": "03c43c3f",
   "metadata": {},
   "outputs": [],
   "source": [
    "df_final.opinion_xyz_risk.fillna(df_final.opinion_xyz_risk.median(), inplace = True)"
   ]
  },
  {
   "cell_type": "code",
   "execution_count": 203,
   "id": "241e63c5",
   "metadata": {},
   "outputs": [],
   "source": [
    "df_final.opinion_seas_vacc_effective.fillna(df_final.opinion_seas_vacc_effective.median(), inplace = True)"
   ]
  },
  {
   "cell_type": "code",
   "execution_count": 204,
   "id": "d5c87285",
   "metadata": {},
   "outputs": [],
   "source": [
    "df_final.behavioral_wash_hands.fillna(df_final.behavioral_wash_hands.median(), inplace = True)"
   ]
  },
  {
   "cell_type": "code",
   "execution_count": 205,
   "id": "019c5df4",
   "metadata": {},
   "outputs": [],
   "source": [
    "df_final.opinion_seas_risk.fillna(df_final.opinion_seas_risk.median(), inplace = True)"
   ]
  },
  {
   "cell_type": "code",
   "execution_count": 206,
   "id": "0a77e043",
   "metadata": {},
   "outputs": [],
   "source": [
    "df_final.household_adults.fillna(df_final.household_adults.median(), inplace = True)"
   ]
  },
  {
   "cell_type": "code",
   "execution_count": 207,
   "id": "be0904f4",
   "metadata": {},
   "outputs": [],
   "source": [
    "df_final.household_children.fillna(df_final.household_children.median(), inplace = True)"
   ]
  },
  {
   "cell_type": "code",
   "execution_count": 208,
   "id": "12d95573",
   "metadata": {},
   "outputs": [],
   "source": [
    "df_final.behavioral_face_mask.fillna(df_final.behavioral_face_mask.median(), inplace = True)"
   ]
  },
  {
   "cell_type": "code",
   "execution_count": 209,
   "id": "45a52f78",
   "metadata": {},
   "outputs": [],
   "source": [
    "df_final.opinion_xyz_sick_from_vacc.fillna(df_final.opinion_xyz_sick_from_vacc.median(), inplace = True)"
   ]
  },
  {
   "cell_type": "code",
   "execution_count": 210,
   "id": "445efb72",
   "metadata": {},
   "outputs": [],
   "source": [
    "df_final.opinion_seas_sick_from_vacc.fillna(df_final.opinion_seas_sick_from_vacc.median(), inplace = True)"
   ]
  },
  {
   "cell_type": "markdown",
   "id": "8a176820",
   "metadata": {},
   "source": [
    "# Encoding stuff"
   ]
  },
  {
   "cell_type": "code",
   "execution_count": 212,
   "id": "2db6c061",
   "metadata": {},
   "outputs": [
    {
     "data": {
      "text/plain": [
       "0        55 - 64 Years\n",
       "1        35 - 44 Years\n",
       "2        18 - 34 Years\n",
       "3            65+ Years\n",
       "4        45 - 54 Years\n",
       "             ...      \n",
       "26702        65+ Years\n",
       "26703    18 - 34 Years\n",
       "26704    55 - 64 Years\n",
       "26705    18 - 34 Years\n",
       "26706        65+ Years\n",
       "Name: age_group, Length: 25934, dtype: object"
      ]
     },
     "execution_count": 212,
     "metadata": {},
     "output_type": "execute_result"
    }
   ],
   "source": [
    "df_final.age_group"
   ]
  },
  {
   "cell_type": "code",
   "execution_count": 213,
   "id": "4c3a8de2",
   "metadata": {},
   "outputs": [],
   "source": [
    "le = LabelEncoder()\n",
    "df_final['age_group'] = le.fit_transform(df_final['age_group'])"
   ]
  },
  {
   "cell_type": "code",
   "execution_count": 214,
   "id": "5f7c6709",
   "metadata": {},
   "outputs": [
    {
     "data": {
      "text/plain": [
       "array(['Non-MSA', 'MSA, Not Principle  City', 'MSA, Principle City'],\n",
       "      dtype=object)"
      ]
     },
     "execution_count": 214,
     "metadata": {},
     "output_type": "execute_result"
    }
   ],
   "source": [
    "df_final.census_msa.unique()"
   ]
  },
  {
   "cell_type": "code",
   "execution_count": 215,
   "id": "90c1fd35",
   "metadata": {},
   "outputs": [],
   "source": [
    "df_final['education'] = le.fit_transform(df_final['education'])\n",
    "df_final['race'] = le.fit_transform(df_final['race'])\n",
    "df_final['sex'] = le.fit_transform(df_final['sex'])\n",
    "df_final['income_poverty'] = le.fit_transform(df_final['income_poverty'])\n",
    "df_final['marital_status'] = le.fit_transform(df_final['marital_status'])"
   ]
  },
  {
   "cell_type": "code",
   "execution_count": 216,
   "id": "2c8410be",
   "metadata": {},
   "outputs": [],
   "source": [
    "df_final['rent_or_own'] = le.fit_transform(df_final['rent_or_own'])\n",
    "df_final['employment_status'] = le.fit_transform(df_final['employment_status'])\n",
    "df_final['hhs_geo_region'] = le.fit_transform(df_final['hhs_geo_region'])\n",
    "df_final['census_msa'] = le.fit_transform(df_final['census_msa'])\n"
   ]
  },
  {
   "cell_type": "markdown",
   "id": "08de5a08",
   "metadata": {},
   "source": [
    "# Segregating into parameters and labels"
   ]
  },
  {
   "cell_type": "code",
   "execution_count": 244,
   "id": "01f520f2",
   "metadata": {},
   "outputs": [],
   "source": [
    "X = df_final.iloc[:, 1:-2]\n",
    "y_xyz = df_final.iloc[:, -2]\n",
    "y_seasonal = df_final.iloc[:, -1]"
   ]
  },
  {
   "cell_type": "markdown",
   "id": "b74ccf14",
   "metadata": {},
   "source": [
    "# using random forest regressor\n"
   ]
  },
  {
   "cell_type": "markdown",
   "id": "591d6974",
   "metadata": {},
   "source": [
    "## first for classifying xyz"
   ]
  },
  {
   "cell_type": "code",
   "execution_count": 218,
   "id": "05c7c36a",
   "metadata": {},
   "outputs": [],
   "source": [
    "X_train_xyz, X_test_xyz, y_train_xyz, y_test_xyz = train_test_split(X, y_xyz, test_size = 0.30)"
   ]
  },
  {
   "cell_type": "code",
   "execution_count": 219,
   "id": "2585dab9",
   "metadata": {},
   "outputs": [],
   "source": [
    "rf_classifier_xyz = RandomForestClassifier(n_estimators=100, random_state=42)"
   ]
  },
  {
   "cell_type": "code",
   "execution_count": 220,
   "id": "28a1f961",
   "metadata": {},
   "outputs": [
    {
     "data": {
      "text/html": [
       "<style>#sk-container-id-3 {color: black;background-color: white;}#sk-container-id-3 pre{padding: 0;}#sk-container-id-3 div.sk-toggleable {background-color: white;}#sk-container-id-3 label.sk-toggleable__label {cursor: pointer;display: block;width: 100%;margin-bottom: 0;padding: 0.3em;box-sizing: border-box;text-align: center;}#sk-container-id-3 label.sk-toggleable__label-arrow:before {content: \"▸\";float: left;margin-right: 0.25em;color: #696969;}#sk-container-id-3 label.sk-toggleable__label-arrow:hover:before {color: black;}#sk-container-id-3 div.sk-estimator:hover label.sk-toggleable__label-arrow:before {color: black;}#sk-container-id-3 div.sk-toggleable__content {max-height: 0;max-width: 0;overflow: hidden;text-align: left;background-color: #f0f8ff;}#sk-container-id-3 div.sk-toggleable__content pre {margin: 0.2em;color: black;border-radius: 0.25em;background-color: #f0f8ff;}#sk-container-id-3 input.sk-toggleable__control:checked~div.sk-toggleable__content {max-height: 200px;max-width: 100%;overflow: auto;}#sk-container-id-3 input.sk-toggleable__control:checked~label.sk-toggleable__label-arrow:before {content: \"▾\";}#sk-container-id-3 div.sk-estimator input.sk-toggleable__control:checked~label.sk-toggleable__label {background-color: #d4ebff;}#sk-container-id-3 div.sk-label input.sk-toggleable__control:checked~label.sk-toggleable__label {background-color: #d4ebff;}#sk-container-id-3 input.sk-hidden--visually {border: 0;clip: rect(1px 1px 1px 1px);clip: rect(1px, 1px, 1px, 1px);height: 1px;margin: -1px;overflow: hidden;padding: 0;position: absolute;width: 1px;}#sk-container-id-3 div.sk-estimator {font-family: monospace;background-color: #f0f8ff;border: 1px dotted black;border-radius: 0.25em;box-sizing: border-box;margin-bottom: 0.5em;}#sk-container-id-3 div.sk-estimator:hover {background-color: #d4ebff;}#sk-container-id-3 div.sk-parallel-item::after {content: \"\";width: 100%;border-bottom: 1px solid gray;flex-grow: 1;}#sk-container-id-3 div.sk-label:hover label.sk-toggleable__label {background-color: #d4ebff;}#sk-container-id-3 div.sk-serial::before {content: \"\";position: absolute;border-left: 1px solid gray;box-sizing: border-box;top: 0;bottom: 0;left: 50%;z-index: 0;}#sk-container-id-3 div.sk-serial {display: flex;flex-direction: column;align-items: center;background-color: white;padding-right: 0.2em;padding-left: 0.2em;position: relative;}#sk-container-id-3 div.sk-item {position: relative;z-index: 1;}#sk-container-id-3 div.sk-parallel {display: flex;align-items: stretch;justify-content: center;background-color: white;position: relative;}#sk-container-id-3 div.sk-item::before, #sk-container-id-3 div.sk-parallel-item::before {content: \"\";position: absolute;border-left: 1px solid gray;box-sizing: border-box;top: 0;bottom: 0;left: 50%;z-index: -1;}#sk-container-id-3 div.sk-parallel-item {display: flex;flex-direction: column;z-index: 1;position: relative;background-color: white;}#sk-container-id-3 div.sk-parallel-item:first-child::after {align-self: flex-end;width: 50%;}#sk-container-id-3 div.sk-parallel-item:last-child::after {align-self: flex-start;width: 50%;}#sk-container-id-3 div.sk-parallel-item:only-child::after {width: 0;}#sk-container-id-3 div.sk-dashed-wrapped {border: 1px dashed gray;margin: 0 0.4em 0.5em 0.4em;box-sizing: border-box;padding-bottom: 0.4em;background-color: white;}#sk-container-id-3 div.sk-label label {font-family: monospace;font-weight: bold;display: inline-block;line-height: 1.2em;}#sk-container-id-3 div.sk-label-container {text-align: center;}#sk-container-id-3 div.sk-container {/* jupyter's `normalize.less` sets `[hidden] { display: none; }` but bootstrap.min.css set `[hidden] { display: none !important; }` so we also need the `!important` here to be able to override the default hidden behavior on the sphinx rendered scikit-learn.org. See: https://github.com/scikit-learn/scikit-learn/issues/21755 */display: inline-block !important;position: relative;}#sk-container-id-3 div.sk-text-repr-fallback {display: none;}</style><div id=\"sk-container-id-3\" class=\"sk-top-container\"><div class=\"sk-text-repr-fallback\"><pre>RandomForestClassifier(random_state=42)</pre><b>In a Jupyter environment, please rerun this cell to show the HTML representation or trust the notebook. <br />On GitHub, the HTML representation is unable to render, please try loading this page with nbviewer.org.</b></div><div class=\"sk-container\" hidden><div class=\"sk-item\"><div class=\"sk-estimator sk-toggleable\"><input class=\"sk-toggleable__control sk-hidden--visually\" id=\"sk-estimator-id-3\" type=\"checkbox\" checked><label for=\"sk-estimator-id-3\" class=\"sk-toggleable__label sk-toggleable__label-arrow\">RandomForestClassifier</label><div class=\"sk-toggleable__content\"><pre>RandomForestClassifier(random_state=42)</pre></div></div></div></div></div>"
      ],
      "text/plain": [
       "RandomForestClassifier(random_state=42)"
      ]
     },
     "execution_count": 220,
     "metadata": {},
     "output_type": "execute_result"
    }
   ],
   "source": [
    "rf_classifier_xyz.fit(X_train_xyz, y_train_xyz)"
   ]
  },
  {
   "cell_type": "code",
   "execution_count": 221,
   "id": "7ead7003",
   "metadata": {},
   "outputs": [],
   "source": [
    "y_pred_xyz = rf_classifier_xyz.predict_proba(X_test_xyz)"
   ]
  },
  {
   "cell_type": "code",
   "execution_count": 222,
   "id": "0590883d",
   "metadata": {},
   "outputs": [],
   "source": [
    "y_pred_xyz = y_pred_xyz[:, 1]"
   ]
  },
  {
   "cell_type": "code",
   "execution_count": 223,
   "id": "a799b117",
   "metadata": {},
   "outputs": [],
   "source": [
    "roc_auc_xyz = roc_auc_score(y_test_xyz, y_pred_xyz)"
   ]
  },
  {
   "cell_type": "code",
   "execution_count": 224,
   "id": "0bbc6791",
   "metadata": {},
   "outputs": [
    {
     "data": {
      "text/plain": [
       "0.8291194109791118"
      ]
     },
     "execution_count": 224,
     "metadata": {},
     "output_type": "execute_result"
    }
   ],
   "source": [
    "roc_auc_xyz"
   ]
  },
  {
   "cell_type": "markdown",
   "id": "b90956c7",
   "metadata": {},
   "source": [
    "## For seasonal"
   ]
  },
  {
   "cell_type": "code",
   "execution_count": 225,
   "id": "7da336b4",
   "metadata": {},
   "outputs": [],
   "source": [
    "X_train_seasonal, X_test_seasonal, y_train_seasonal, y_test_seasonal = train_test_split(X, y_seasonal, test_size = 0.30)"
   ]
  },
  {
   "cell_type": "code",
   "execution_count": 226,
   "id": "91ebd42b",
   "metadata": {},
   "outputs": [],
   "source": [
    "rf_classifier_seasonal = RandomForestClassifier(n_estimators=100, random_state=42)"
   ]
  },
  {
   "cell_type": "code",
   "execution_count": 227,
   "id": "4f78b7fa",
   "metadata": {},
   "outputs": [
    {
     "data": {
      "text/html": [
       "<style>#sk-container-id-4 {color: black;background-color: white;}#sk-container-id-4 pre{padding: 0;}#sk-container-id-4 div.sk-toggleable {background-color: white;}#sk-container-id-4 label.sk-toggleable__label {cursor: pointer;display: block;width: 100%;margin-bottom: 0;padding: 0.3em;box-sizing: border-box;text-align: center;}#sk-container-id-4 label.sk-toggleable__label-arrow:before {content: \"▸\";float: left;margin-right: 0.25em;color: #696969;}#sk-container-id-4 label.sk-toggleable__label-arrow:hover:before {color: black;}#sk-container-id-4 div.sk-estimator:hover label.sk-toggleable__label-arrow:before {color: black;}#sk-container-id-4 div.sk-toggleable__content {max-height: 0;max-width: 0;overflow: hidden;text-align: left;background-color: #f0f8ff;}#sk-container-id-4 div.sk-toggleable__content pre {margin: 0.2em;color: black;border-radius: 0.25em;background-color: #f0f8ff;}#sk-container-id-4 input.sk-toggleable__control:checked~div.sk-toggleable__content {max-height: 200px;max-width: 100%;overflow: auto;}#sk-container-id-4 input.sk-toggleable__control:checked~label.sk-toggleable__label-arrow:before {content: \"▾\";}#sk-container-id-4 div.sk-estimator input.sk-toggleable__control:checked~label.sk-toggleable__label {background-color: #d4ebff;}#sk-container-id-4 div.sk-label input.sk-toggleable__control:checked~label.sk-toggleable__label {background-color: #d4ebff;}#sk-container-id-4 input.sk-hidden--visually {border: 0;clip: rect(1px 1px 1px 1px);clip: rect(1px, 1px, 1px, 1px);height: 1px;margin: -1px;overflow: hidden;padding: 0;position: absolute;width: 1px;}#sk-container-id-4 div.sk-estimator {font-family: monospace;background-color: #f0f8ff;border: 1px dotted black;border-radius: 0.25em;box-sizing: border-box;margin-bottom: 0.5em;}#sk-container-id-4 div.sk-estimator:hover {background-color: #d4ebff;}#sk-container-id-4 div.sk-parallel-item::after {content: \"\";width: 100%;border-bottom: 1px solid gray;flex-grow: 1;}#sk-container-id-4 div.sk-label:hover label.sk-toggleable__label {background-color: #d4ebff;}#sk-container-id-4 div.sk-serial::before {content: \"\";position: absolute;border-left: 1px solid gray;box-sizing: border-box;top: 0;bottom: 0;left: 50%;z-index: 0;}#sk-container-id-4 div.sk-serial {display: flex;flex-direction: column;align-items: center;background-color: white;padding-right: 0.2em;padding-left: 0.2em;position: relative;}#sk-container-id-4 div.sk-item {position: relative;z-index: 1;}#sk-container-id-4 div.sk-parallel {display: flex;align-items: stretch;justify-content: center;background-color: white;position: relative;}#sk-container-id-4 div.sk-item::before, #sk-container-id-4 div.sk-parallel-item::before {content: \"\";position: absolute;border-left: 1px solid gray;box-sizing: border-box;top: 0;bottom: 0;left: 50%;z-index: -1;}#sk-container-id-4 div.sk-parallel-item {display: flex;flex-direction: column;z-index: 1;position: relative;background-color: white;}#sk-container-id-4 div.sk-parallel-item:first-child::after {align-self: flex-end;width: 50%;}#sk-container-id-4 div.sk-parallel-item:last-child::after {align-self: flex-start;width: 50%;}#sk-container-id-4 div.sk-parallel-item:only-child::after {width: 0;}#sk-container-id-4 div.sk-dashed-wrapped {border: 1px dashed gray;margin: 0 0.4em 0.5em 0.4em;box-sizing: border-box;padding-bottom: 0.4em;background-color: white;}#sk-container-id-4 div.sk-label label {font-family: monospace;font-weight: bold;display: inline-block;line-height: 1.2em;}#sk-container-id-4 div.sk-label-container {text-align: center;}#sk-container-id-4 div.sk-container {/* jupyter's `normalize.less` sets `[hidden] { display: none; }` but bootstrap.min.css set `[hidden] { display: none !important; }` so we also need the `!important` here to be able to override the default hidden behavior on the sphinx rendered scikit-learn.org. See: https://github.com/scikit-learn/scikit-learn/issues/21755 */display: inline-block !important;position: relative;}#sk-container-id-4 div.sk-text-repr-fallback {display: none;}</style><div id=\"sk-container-id-4\" class=\"sk-top-container\"><div class=\"sk-text-repr-fallback\"><pre>RandomForestClassifier(random_state=42)</pre><b>In a Jupyter environment, please rerun this cell to show the HTML representation or trust the notebook. <br />On GitHub, the HTML representation is unable to render, please try loading this page with nbviewer.org.</b></div><div class=\"sk-container\" hidden><div class=\"sk-item\"><div class=\"sk-estimator sk-toggleable\"><input class=\"sk-toggleable__control sk-hidden--visually\" id=\"sk-estimator-id-4\" type=\"checkbox\" checked><label for=\"sk-estimator-id-4\" class=\"sk-toggleable__label sk-toggleable__label-arrow\">RandomForestClassifier</label><div class=\"sk-toggleable__content\"><pre>RandomForestClassifier(random_state=42)</pre></div></div></div></div></div>"
      ],
      "text/plain": [
       "RandomForestClassifier(random_state=42)"
      ]
     },
     "execution_count": 227,
     "metadata": {},
     "output_type": "execute_result"
    }
   ],
   "source": [
    "rf_classifier_seasonal.fit(X_train_seasonal, y_train_seasonal)"
   ]
  },
  {
   "cell_type": "code",
   "execution_count": 228,
   "id": "c0245f5f",
   "metadata": {},
   "outputs": [],
   "source": [
    "y_pred_seasonal = rf_classifier_seasonal.predict_proba(X_test_seasonal)"
   ]
  },
  {
   "cell_type": "code",
   "execution_count": 229,
   "id": "a835c5c5",
   "metadata": {},
   "outputs": [],
   "source": [
    "y_pred_seasonal = y_pred_seasonal[:, 1]"
   ]
  },
  {
   "cell_type": "code",
   "execution_count": 230,
   "id": "3e1f307f",
   "metadata": {},
   "outputs": [],
   "source": [
    "roc_auc_seasonal = roc_auc_score(y_test_seasonal, y_pred_seasonal)"
   ]
  },
  {
   "cell_type": "code",
   "execution_count": 231,
   "id": "0ea6cc1d",
   "metadata": {},
   "outputs": [
    {
     "data": {
      "text/plain": [
       "0.8458259380939793"
      ]
     },
     "execution_count": 231,
     "metadata": {},
     "output_type": "execute_result"
    }
   ],
   "source": [
    "roc_auc_seasonal"
   ]
  },
  {
   "cell_type": "markdown",
   "id": "93cdc127",
   "metadata": {},
   "source": [
    "The model exhibits an accuracy score of above 80 percentfor both of the labels, we now move forward with predicting the test values"
   ]
  },
  {
   "cell_type": "markdown",
   "id": "438d156d",
   "metadata": {},
   "source": [
    "## Finding probabilty for test dataset"
   ]
  },
  {
   "cell_type": "code",
   "execution_count": 232,
   "id": "5e6ee95a",
   "metadata": {},
   "outputs": [
    {
     "data": {
      "text/html": [
       "<div>\n",
       "<style scoped>\n",
       "    .dataframe tbody tr th:only-of-type {\n",
       "        vertical-align: middle;\n",
       "    }\n",
       "\n",
       "    .dataframe tbody tr th {\n",
       "        vertical-align: top;\n",
       "    }\n",
       "\n",
       "    .dataframe thead th {\n",
       "        text-align: right;\n",
       "    }\n",
       "</style>\n",
       "<table border=\"1\" class=\"dataframe\">\n",
       "  <thead>\n",
       "    <tr style=\"text-align: right;\">\n",
       "      <th></th>\n",
       "      <th>respondent_id</th>\n",
       "      <th>xyz_concern</th>\n",
       "      <th>xyz_knowledge</th>\n",
       "      <th>behavioral_antiviral_meds</th>\n",
       "      <th>behavioral_avoidance</th>\n",
       "      <th>behavioral_face_mask</th>\n",
       "      <th>behavioral_wash_hands</th>\n",
       "      <th>behavioral_large_gatherings</th>\n",
       "      <th>behavioral_outside_home</th>\n",
       "      <th>behavioral_touch_face</th>\n",
       "      <th>...</th>\n",
       "      <th>income_poverty</th>\n",
       "      <th>marital_status</th>\n",
       "      <th>rent_or_own</th>\n",
       "      <th>employment_status</th>\n",
       "      <th>hhs_geo_region</th>\n",
       "      <th>census_msa</th>\n",
       "      <th>household_adults</th>\n",
       "      <th>household_children</th>\n",
       "      <th>employment_industry</th>\n",
       "      <th>employment_occupation</th>\n",
       "    </tr>\n",
       "  </thead>\n",
       "  <tbody>\n",
       "    <tr>\n",
       "      <th>0</th>\n",
       "      <td>26707</td>\n",
       "      <td>2.0</td>\n",
       "      <td>2.0</td>\n",
       "      <td>0.0</td>\n",
       "      <td>1.0</td>\n",
       "      <td>0.0</td>\n",
       "      <td>1.0</td>\n",
       "      <td>1.0</td>\n",
       "      <td>0.0</td>\n",
       "      <td>1.0</td>\n",
       "      <td>...</td>\n",
       "      <td>&gt; $75,000</td>\n",
       "      <td>Not Married</td>\n",
       "      <td>Rent</td>\n",
       "      <td>Employed</td>\n",
       "      <td>mlyzmhmf</td>\n",
       "      <td>MSA, Not Principle  City</td>\n",
       "      <td>1.0</td>\n",
       "      <td>0.0</td>\n",
       "      <td>atmlpfrs</td>\n",
       "      <td>hfxkjkmi</td>\n",
       "    </tr>\n",
       "    <tr>\n",
       "      <th>1</th>\n",
       "      <td>26708</td>\n",
       "      <td>1.0</td>\n",
       "      <td>1.0</td>\n",
       "      <td>0.0</td>\n",
       "      <td>0.0</td>\n",
       "      <td>0.0</td>\n",
       "      <td>0.0</td>\n",
       "      <td>0.0</td>\n",
       "      <td>0.0</td>\n",
       "      <td>0.0</td>\n",
       "      <td>...</td>\n",
       "      <td>Below Poverty</td>\n",
       "      <td>Not Married</td>\n",
       "      <td>Rent</td>\n",
       "      <td>Employed</td>\n",
       "      <td>bhuqouqj</td>\n",
       "      <td>Non-MSA</td>\n",
       "      <td>3.0</td>\n",
       "      <td>0.0</td>\n",
       "      <td>atmlpfrs</td>\n",
       "      <td>xqwwgdyp</td>\n",
       "    </tr>\n",
       "    <tr>\n",
       "      <th>2</th>\n",
       "      <td>26709</td>\n",
       "      <td>2.0</td>\n",
       "      <td>2.0</td>\n",
       "      <td>0.0</td>\n",
       "      <td>0.0</td>\n",
       "      <td>1.0</td>\n",
       "      <td>1.0</td>\n",
       "      <td>1.0</td>\n",
       "      <td>1.0</td>\n",
       "      <td>1.0</td>\n",
       "      <td>...</td>\n",
       "      <td>&gt; $75,000</td>\n",
       "      <td>Married</td>\n",
       "      <td>Own</td>\n",
       "      <td>Employed</td>\n",
       "      <td>lrircsnp</td>\n",
       "      <td>Non-MSA</td>\n",
       "      <td>1.0</td>\n",
       "      <td>0.0</td>\n",
       "      <td>nduyfdeo</td>\n",
       "      <td>pvmttkik</td>\n",
       "    </tr>\n",
       "    <tr>\n",
       "      <th>3</th>\n",
       "      <td>26710</td>\n",
       "      <td>1.0</td>\n",
       "      <td>1.0</td>\n",
       "      <td>0.0</td>\n",
       "      <td>0.0</td>\n",
       "      <td>0.0</td>\n",
       "      <td>0.0</td>\n",
       "      <td>0.0</td>\n",
       "      <td>0.0</td>\n",
       "      <td>0.0</td>\n",
       "      <td>...</td>\n",
       "      <td>&lt;= $75,000, Above Poverty</td>\n",
       "      <td>Married</td>\n",
       "      <td>Own</td>\n",
       "      <td>Not in Labor Force</td>\n",
       "      <td>lrircsnp</td>\n",
       "      <td>MSA, Not Principle  City</td>\n",
       "      <td>1.0</td>\n",
       "      <td>0.0</td>\n",
       "      <td>NaN</td>\n",
       "      <td>NaN</td>\n",
       "    </tr>\n",
       "    <tr>\n",
       "      <th>4</th>\n",
       "      <td>26711</td>\n",
       "      <td>3.0</td>\n",
       "      <td>1.0</td>\n",
       "      <td>1.0</td>\n",
       "      <td>1.0</td>\n",
       "      <td>0.0</td>\n",
       "      <td>1.0</td>\n",
       "      <td>1.0</td>\n",
       "      <td>1.0</td>\n",
       "      <td>1.0</td>\n",
       "      <td>...</td>\n",
       "      <td>&lt;= $75,000, Above Poverty</td>\n",
       "      <td>Not Married</td>\n",
       "      <td>Own</td>\n",
       "      <td>Employed</td>\n",
       "      <td>lzgpxyit</td>\n",
       "      <td>Non-MSA</td>\n",
       "      <td>0.0</td>\n",
       "      <td>1.0</td>\n",
       "      <td>fcxhlnwr</td>\n",
       "      <td>mxkfnird</td>\n",
       "    </tr>\n",
       "  </tbody>\n",
       "</table>\n",
       "<p>5 rows × 36 columns</p>\n",
       "</div>"
      ],
      "text/plain": [
       "   respondent_id  xyz_concern  xyz_knowledge  behavioral_antiviral_meds  \\\n",
       "0          26707          2.0            2.0                        0.0   \n",
       "1          26708          1.0            1.0                        0.0   \n",
       "2          26709          2.0            2.0                        0.0   \n",
       "3          26710          1.0            1.0                        0.0   \n",
       "4          26711          3.0            1.0                        1.0   \n",
       "\n",
       "   behavioral_avoidance  behavioral_face_mask  behavioral_wash_hands  \\\n",
       "0                   1.0                   0.0                    1.0   \n",
       "1                   0.0                   0.0                    0.0   \n",
       "2                   0.0                   1.0                    1.0   \n",
       "3                   0.0                   0.0                    0.0   \n",
       "4                   1.0                   0.0                    1.0   \n",
       "\n",
       "   behavioral_large_gatherings  behavioral_outside_home  \\\n",
       "0                          1.0                      0.0   \n",
       "1                          0.0                      0.0   \n",
       "2                          1.0                      1.0   \n",
       "3                          0.0                      0.0   \n",
       "4                          1.0                      1.0   \n",
       "\n",
       "   behavioral_touch_face  ...             income_poverty  marital_status  \\\n",
       "0                    1.0  ...                  > $75,000     Not Married   \n",
       "1                    0.0  ...              Below Poverty     Not Married   \n",
       "2                    1.0  ...                  > $75,000         Married   \n",
       "3                    0.0  ...  <= $75,000, Above Poverty         Married   \n",
       "4                    1.0  ...  <= $75,000, Above Poverty     Not Married   \n",
       "\n",
       "   rent_or_own   employment_status  hhs_geo_region                census_msa  \\\n",
       "0         Rent            Employed        mlyzmhmf  MSA, Not Principle  City   \n",
       "1         Rent            Employed        bhuqouqj                   Non-MSA   \n",
       "2          Own            Employed        lrircsnp                   Non-MSA   \n",
       "3          Own  Not in Labor Force        lrircsnp  MSA, Not Principle  City   \n",
       "4          Own            Employed        lzgpxyit                   Non-MSA   \n",
       "\n",
       "   household_adults  household_children  employment_industry  \\\n",
       "0               1.0                 0.0             atmlpfrs   \n",
       "1               3.0                 0.0             atmlpfrs   \n",
       "2               1.0                 0.0             nduyfdeo   \n",
       "3               1.0                 0.0                  NaN   \n",
       "4               0.0                 1.0             fcxhlnwr   \n",
       "\n",
       "   employment_occupation  \n",
       "0               hfxkjkmi  \n",
       "1               xqwwgdyp  \n",
       "2               pvmttkik  \n",
       "3                    NaN  \n",
       "4               mxkfnird  \n",
       "\n",
       "[5 rows x 36 columns]"
      ]
     },
     "execution_count": 232,
     "metadata": {},
     "output_type": "execute_result"
    }
   ],
   "source": [
    "df_test_set_features.head()"
   ]
  },
  {
   "cell_type": "code",
   "execution_count": 233,
   "id": "dbb5ffd5",
   "metadata": {},
   "outputs": [],
   "source": [
    "df_test_set_features.drop(columns = ['employment_industry', 'employment_occupation', 'health_insurance'], inplace = True)"
   ]
  },
  {
   "cell_type": "code",
   "execution_count": 234,
   "id": "7e96c711",
   "metadata": {},
   "outputs": [
    {
     "data": {
      "text/plain": [
       "(26708, 33)"
      ]
     },
     "execution_count": 234,
     "metadata": {},
     "output_type": "execute_result"
    }
   ],
   "source": [
    "df_test_set_features.shape"
   ]
  },
  {
   "cell_type": "code",
   "execution_count": 235,
   "id": "3104424a",
   "metadata": {},
   "outputs": [
    {
     "data": {
      "text/plain": [
       "respondent_id                     0\n",
       "xyz_concern                      85\n",
       "xyz_knowledge                   122\n",
       "behavioral_antiviral_meds        79\n",
       "behavioral_avoidance            213\n",
       "behavioral_face_mask             19\n",
       "behavioral_wash_hands            40\n",
       "behavioral_large_gatherings      72\n",
       "behavioral_outside_home          82\n",
       "behavioral_touch_face           128\n",
       "doctor_recc_xyz                2160\n",
       "doctor_recc_seasonal           2160\n",
       "chronic_med_condition           932\n",
       "child_under_6_months            813\n",
       "health_worker                   789\n",
       "opinion_xyz_vacc_effective      398\n",
       "opinion_xyz_risk                380\n",
       "opinion_xyz_sick_from_vacc      375\n",
       "opinion_seas_vacc_effective     452\n",
       "opinion_seas_risk               499\n",
       "opinion_seas_sick_from_vacc     521\n",
       "age_group                         0\n",
       "education                      1407\n",
       "race                              0\n",
       "sex                               0\n",
       "income_poverty                 4497\n",
       "marital_status                 1442\n",
       "rent_or_own                    2036\n",
       "employment_status              1471\n",
       "hhs_geo_region                    0\n",
       "census_msa                        0\n",
       "household_adults                225\n",
       "household_children              225\n",
       "dtype: int64"
      ]
     },
     "execution_count": 235,
     "metadata": {},
     "output_type": "execute_result"
    }
   ],
   "source": [
    "df_test_set_features.isnull().sum()"
   ]
  },
  {
   "cell_type": "code",
   "execution_count": 236,
   "id": "71ba43f7",
   "metadata": {},
   "outputs": [],
   "source": [
    "df_test_set_features.xyz_concern.fillna(df_test_set_features.xyz_concern.median(), inplace = True)\n",
    "df_test_set_features.xyz_knowledge.fillna(df_test_set_features.xyz_knowledge.median(), inplace = True)\n",
    "df_test_set_features.behavioral_antiviral_meds.fillna(df_test_set_features.behavioral_antiviral_meds.median(), inplace = True)\n",
    "df_test_set_features.behavioral_avoidance.fillna(df_test_set_features.behavioral_avoidance.median(), inplace = True)\n",
    "df_test_set_features.behavioral_face_mask.fillna(df_test_set_features.behavioral_face_mask.median(), inplace = True)\n",
    "df_test_set_features.behavioral_large_gatherings.fillna(df_test_set_features.behavioral_large_gatherings.median(), inplace = True)\n",
    "df_test_set_features.behavioral_outside_home.fillna(df_test_set_features.behavioral_outside_home.median(), inplace = True)\n",
    "df_test_set_features.behavioral_touch_face.fillna(df_test_set_features.behavioral_touch_face.median(), inplace = True)\n",
    "df_test_set_features.behavioral_wash_hands.fillna(df_test_set_features.behavioral_wash_hands.median(), inplace = True)\n",
    "df_test_set_features.doctor_recc_xyz.fillna(df_test_set_features.doctor_recc_xyz.median(), inplace = True)\n",
    "df_test_set_features.doctor_recc_seasonal.fillna(df_test_set_features.doctor_recc_seasonal.median(), inplace = True)\n",
    "df_test_set_features.chronic_med_condition.fillna(df_test_set_features.chronic_med_condition.median(), inplace = True)\n",
    "df_test_set_features.child_under_6_months.fillna(df_test_set_features.child_under_6_months.median(), inplace = True)\n",
    "df_test_set_features.health_worker.fillna(df_test_set_features.health_worker.median(), inplace = True)\n",
    "df_test_set_features.opinion_seas_risk.fillna(df_test_set_features.opinion_seas_risk.median(), inplace = True)\n",
    "df_test_set_features.opinion_seas_sick_from_vacc.fillna(df_test_set_features.opinion_seas_sick_from_vacc.median(), inplace = True)\n",
    "df_test_set_features.opinion_seas_vacc_effective.fillna(df_test_set_features.opinion_seas_vacc_effective.median(), inplace = True)\n",
    "df_test_set_features.opinion_xyz_risk.fillna(df_test_set_features.opinion_xyz_risk.median(), inplace = True)\n",
    "df_test_set_features.opinion_xyz_sick_from_vacc.fillna(df_test_set_features.opinion_xyz_sick_from_vacc.median(), inplace = True)\n",
    "df_test_set_features.opinion_xyz_vacc_effective.fillna(df_test_set_features.opinion_xyz_vacc_effective.median(), inplace = True)\n",
    "df_test_set_features.household_adults.fillna(df_test_set_features.household_adults.median(), inplace = True)\n",
    "df_test_set_features.household_children.fillna(df_test_set_features.household_children.median(), inplace = True)"
   ]
  },
  {
   "cell_type": "code",
   "execution_count": 237,
   "id": "ef6cea47",
   "metadata": {},
   "outputs": [],
   "source": [
    "df_test_set_features.education.fillna('College Graduate', inplace = True)\n",
    "df_test_set_features.income_poverty.fillna('<= $75,000, Above Poverty', inplace = True)\n",
    "df_test_set_features.marital_status.fillna('Married', inplace = True)\n",
    "df_test_set_features.rent_or_own.fillna('Own', inplace = True)\n",
    "df_test_set_features.employment_status.fillna('Employed', inplace = True)\n"
   ]
  },
  {
   "cell_type": "code",
   "execution_count": 238,
   "id": "95320774",
   "metadata": {},
   "outputs": [
    {
     "data": {
      "text/plain": [
       "count        26708\n",
       "unique           3\n",
       "top       Employed\n",
       "freq         15103\n",
       "Name: employment_status, dtype: object"
      ]
     },
     "execution_count": 238,
     "metadata": {},
     "output_type": "execute_result"
    }
   ],
   "source": [
    "df_test_set_features['employment_status'].describe()"
   ]
  },
  {
   "cell_type": "code",
   "execution_count": 239,
   "id": "280a70f9",
   "metadata": {},
   "outputs": [],
   "source": [
    "df_test_set_features['age_group'] = le.fit_transform(df_test_set_features['age_group'])\n",
    "df_test_set_features['education'] = le.fit_transform(df_test_set_features['education'])\n",
    "df_test_set_features['race'] = le.fit_transform(df_test_set_features['race'])\n",
    "df_test_set_features['sex'] = le.fit_transform(df_test_set_features['sex'])\n",
    "df_test_set_features['income_poverty'] = le.fit_transform(df_test_set_features['income_poverty'])\n",
    "df_test_set_features['marital_status'] = le.fit_transform(df_test_set_features['marital_status'])\n",
    "df_test_set_features['rent_or_own'] = le.fit_transform(df_test_set_features['rent_or_own'])\n",
    "df_test_set_features['employment_status'] = le.fit_transform(df_test_set_features['employment_status'])\n",
    "df_test_set_features['hhs_geo_region'] = le.fit_transform(df_test_set_features['hhs_geo_region'])\n",
    "df_test_set_features['census_msa'] = le.fit_transform(df_test_set_features['census_msa'])"
   ]
  },
  {
   "cell_type": "code",
   "execution_count": 241,
   "id": "5f23268e",
   "metadata": {},
   "outputs": [
    {
     "data": {
      "text/plain": [
       "Index(['respondent_id', 'h1n1_vaccine', 'seasonal_vaccine'], dtype='object')"
      ]
     },
     "execution_count": 241,
     "metadata": {},
     "output_type": "execute_result"
    }
   ],
   "source": [
    "df_submission.columns"
   ]
  },
  {
   "cell_type": "code",
   "execution_count": 246,
   "id": "a7bf5579",
   "metadata": {},
   "outputs": [],
   "source": [
    "X_final = df_test_set_features.iloc[:, 1:]"
   ]
  },
  {
   "cell_type": "markdown",
   "id": "e32b7069",
   "metadata": {},
   "source": [
    "Finally calculating the probabilities using the model"
   ]
  },
  {
   "cell_type": "code",
   "execution_count": 247,
   "id": "6f7da60a",
   "metadata": {},
   "outputs": [],
   "source": [
    "h1n1_vaccine = rf_classifier_xyz.predict_proba(X_final)\n",
    "seasonal_vaccine = rf_classifier_seasonal.predict_proba(X_final)"
   ]
  },
  {
   "cell_type": "code",
   "execution_count": 248,
   "id": "f6f38232",
   "metadata": {},
   "outputs": [],
   "source": [
    "df_submission['h1n1_vaccine'] = h1n1_vaccine[:, 1]\n",
    "df_submission['seasonal_vaccine'] = seasonal_vaccine[:, 1]"
   ]
  },
  {
   "cell_type": "code",
   "execution_count": 253,
   "id": "1f549df8",
   "metadata": {},
   "outputs": [],
   "source": [
    "df_submission.set_index(\"respondent_id\", inplace = True)"
   ]
  },
  {
   "cell_type": "code",
   "execution_count": 254,
   "id": "8605dcdb",
   "metadata": {},
   "outputs": [],
   "source": [
    "df_submission.to_csv('submission_format.csv')"
   ]
  },
  {
   "cell_type": "code",
   "execution_count": null,
   "id": "6830327e",
   "metadata": {},
   "outputs": [],
   "source": []
  }
 ],
 "metadata": {
  "kernelspec": {
   "display_name": "Python 3 (ipykernel)",
   "language": "python",
   "name": "python3"
  },
  "language_info": {
   "codemirror_mode": {
    "name": "ipython",
    "version": 3
   },
   "file_extension": ".py",
   "mimetype": "text/x-python",
   "name": "python",
   "nbconvert_exporter": "python",
   "pygments_lexer": "ipython3",
   "version": "3.11.7"
  }
 },
 "nbformat": 4,
 "nbformat_minor": 5
}
